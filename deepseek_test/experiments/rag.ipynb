{
 "cells": [
  {
   "cell_type": "code",
   "execution_count": 64,
   "metadata": {},
   "outputs": [],
   "source": [
    "from langchain.document_loaders import TextLoader\n",
    "from langchain.text_splitter import RecursiveCharacterTextSplitter\n",
    "from langchain_huggingface import HuggingFaceEmbeddings\n",
    "from langchain.vectorstores import FAISS\n",
    "import ollama"
   ]
  },
  {
   "cell_type": "code",
   "execution_count": 65,
   "metadata": {},
   "outputs": [],
   "source": [
    "# 1. Load documents\n",
    "documents = TextLoader(\"../data/manual.txt\").load()\n"
   ]
  },
  {
   "cell_type": "code",
   "execution_count": 66,
   "metadata": {},
   "outputs": [],
   "source": [
    "# 2. Split into chunks\n",
    "text_splitter = RecursiveCharacterTextSplitter(\n",
    "    chunk_size=1000,\n",
    "    chunk_overlap=200\n",
    ")\n",
    "chunks = text_splitter.split_documents(documents)\n"
   ]
  },
  {
   "cell_type": "code",
   "execution_count": 67,
   "metadata": {},
   "outputs": [
    {
     "name": "stdout",
     "output_type": "stream",
     "text": [
      "<langchain_community.vectorstores.faiss.FAISS object at 0x37d879090>\n"
     ]
    }
   ],
   "source": [
    "# 3. Create embeddings and vector store\n",
    "embeddings = HuggingFaceEmbeddings(\n",
    "    model_name=\"sentence-transformers/all-MiniLM-L6-v2\"\n",
    ")\n",
    "vectorstore = FAISS.from_documents(chunks, embeddings)\n",
    "print(vectorstore)\n"
   ]
  },
  {
   "cell_type": "code",
   "execution_count": 68,
   "metadata": {},
   "outputs": [
    {
     "name": "stdout",
     "output_type": "stream",
     "text": [
      "tags=['FAISS', 'HuggingFaceEmbeddings'] vectorstore=<langchain_community.vectorstores.faiss.FAISS object at 0x37d879090> search_kwargs={}\n"
     ]
    }
   ],
   "source": [
    "# 4. Create a retriever\n",
    "retriever = vectorstore.as_retriever()\n",
    "print(retriever)"
   ]
  },
  {
   "cell_type": "code",
   "execution_count": 69,
   "metadata": {},
   "outputs": [],
   "source": [
    "def query_document1(question,temp=0.5):\n",
    "    # Get relevant chunks\n",
    "    docs = vectorstore.similarity_search(question, k=3)\n",
    "    context = \"\\n\\n\".join([doc.page_content for doc in docs])\n",
    "    \n",
    "    # Format prompt for DeepSeek\n",
    "    prompt = f\"\"\"Answer the following question based only on the provided context.\n",
    "    If you cannot answer from the context, say \"I don't have enough information.\"\n",
    "    Think step by step before answering.\n",
    "    \n",
    "    Context:\n",
    "    {context}\n",
    "    \n",
    "    Question: {question}\n",
    "    \n",
    "    <think>\n",
    "    Think through the reasoning process step by step here. Explore the context and determine the best answer.\n",
    "    </think>\n",
    "    \n",
    "    Answer:\"\"\"\n",
    "    \n",
    "    # Generate response using DeepSeek-R1\n",
    "    response = ollama.generate(\n",
    "        model=\"deepseek-r1:7b\",\n",
    "        prompt=prompt,\n",
    "        options={\"temperature\": temp}\n",
    "    )\n",
    "    \n",
    "    # Extract thinking and answer\n",
    "    full_response = response[\"response\"]\n",
    "    \n",
    "    # Parse thinking section\n",
    "    thinking = \"\"\n",
    "    if \"<think>\" in full_response and \"</think>\" in full_response:\n",
    "        thinking_start = full_response.find(\"<think>\") + len(\"<think>\")\n",
    "        thinking_end = full_response.find(\"</think>\")\n",
    "        thinking = full_response[thinking_start:thinking_end].strip()\n",
    "    \n",
    "    # Get answer (everything after the </think> tag)\n",
    "    answer = \"\"\n",
    "    if \"</think>\" in full_response:\n",
    "        answer = full_response[full_response.find(\"</think>\") + len(\"</think>\"):].strip()\n",
    "    else:\n",
    "        answer = full_response  # No thinking tags found, use full response\n",
    "    \n",
    "    return {\"thinking\": thinking, \"answer\": answer}\n",
    "\n"
   ]
  },
  {
   "cell_type": "code",
   "execution_count": 70,
   "metadata": {},
   "outputs": [
    {
     "name": "stdout",
     "output_type": "stream",
     "text": [
      "\n",
      "Question: Summarize the document in 1 sentence\n",
      "The document outlines warranty exclusions for physical damage, water damage, unauthorized modifications, normal wear and tear, and altered serial numbers, provides steps for obtaining warranty service including contacting support, providing proof of purchase, describing issues, following troubleshooting, and obtaining an RMA. Additionally, it details package contents (router, power adapter, Ethernet cable, quick start guide, mounting brackets) and installation steps such as positioning the router, connecting cables, waiting for power, connecting devices, accessing settings via a web browser using default credentials, and following a setup wizard.\n",
      "\n",
      "Summary: The document explains warranty exclusions, how to obtain warranty service with specific steps, details package contents, and provides an installation guide with procedure steps.\n"
     ]
    }
   ],
   "source": [
    "# Usage:\n",
    "question = \"Summarize the document in 1 sentence\"\n",
    "result = query_document1(question,temp=0.5)\n",
    "\n",
    "print(f\"\\nQuestion: {question}\")\n",
    "#print(f\"\\nThinking Process:\")\n",
    "#print(result[\"thinking\"])\n",
    "#print(f\"\\nAnswer:\")\n",
    "print(result[\"answer\"])\n"
   ]
  },
  {
   "cell_type": "code",
   "execution_count": 71,
   "metadata": {},
   "outputs": [],
   "source": [
    "# Usage:\n",
    "factual_answer = query_document1(\"Summarize the document in 1 sentence\", temp=0.1)\n",
    "creative_answer = query_document1(\"Summarize the document in 1 sentence\", temp=1.0)\n"
   ]
  },
  {
   "cell_type": "code",
   "execution_count": 72,
   "metadata": {},
   "outputs": [
    {
     "name": "stdout",
     "output_type": "stream",
     "text": [
      "The document outlines warranty exclusions for XYZ-company products and provides instructions for obtaining warranty service, along with a detailed installation guide for their router package.\n",
      "The document outlines the conditions under which warranty is not valid, such as physical damage from accidents or misuse, water damage, unauthorized modifications, normal wear and tear, and altered serial numbers; provides steps to obtain warranty service through customer support with proof of purchase and serial number; mentions extended warranties available within 30 days of purchase; lists product contents including router, power adapter, Ethernet cable, setup guide, and mounting brackets; and offers an installation guide with detailed setup instructions.\n"
     ]
    }
   ],
   "source": [
    "print(factual_answer[\"answer\"])\n",
    "print(creative_answer[\"answer\"])"
   ]
  },
  {
   "cell_type": "code",
   "execution_count": 73,
   "metadata": {},
   "outputs": [
    {
     "name": "stdout",
     "output_type": "stream",
     "text": [
      "{'thinking': \"Alright, I'm trying to summarize this document based on the provided context. Let me read through it carefully.\\n\\nThe context starts with Warranty Exclusions, which list several issues that won't be covered under warranty. These include physical damage from accidents or misuse, water or liquid damage, unauthorized modifications, normal wear and tear, and products with altered serial numbers.\\n\\nNext, there's a section on How to Obtain Warranty Service. It outlines the steps: contacting customer support via email or phone, providing proof of purchase and the product serial number, describing the issue in detail, following troubleshooting steps from support, obtaining an RMA number if needed, and shipping the product with the RMA clearly marked.\\n\\nThen there's information about Extended warranty plans available within 30 days of purchase. So that's a key point about additional coverage options beyond the standard warranty.\\n\\nAfter that comes an Installation Guide section. It lists the package contents: a router, power adapter, Ethernet cable, quick start guide, and mounting brackets. The installation procedure includes steps like unpacking items, positioning the router away from walls or metal objects, connecting the power adapter to the outlet, waiting for the power LED to turn green, connecting the modem via Ethernet or Wi-Fi, accessing the router's settings through a web browser, logging in with admin credentials, and following the setup wizard.\\n\\nSo, summarizing this document, I need to capture all these points concisely. The main sections are Warranty Exclusions, How to Obtain Warranty Service, Extended warranty availability, Package contents, and Installation procedure.\\n\\nI should make sure each of these is mentioned briefly but clearly in the summary.\", 'answer': 'The document outlines warranty exclusions, steps for obtaining warranty service, extended warranty options available within 30 days, package contents including a router, power adapter, Ethernet cable, quick start guide, and mounting brackets, along with an installation procedure involving unpacking items, positioning the router, connecting the power source, setting up connections via Ethernet or Wi-Fi, and logging in to configure settings.'}\n"
     ]
    }
   ],
   "source": [
    "creative_answer = query_document1(\"Summarize the document in 1 sentence\")\n",
    "print(creative_answer)"
   ]
  }
 ],
 "metadata": {
  "kernelspec": {
   "display_name": ".venv",
   "language": "python",
   "name": "python3"
  },
  "language_info": {
   "codemirror_mode": {
    "name": "ipython",
    "version": 3
   },
   "file_extension": ".py",
   "mimetype": "text/x-python",
   "name": "python",
   "nbconvert_exporter": "python",
   "pygments_lexer": "ipython3",
   "version": "3.13.2"
  }
 },
 "nbformat": 4,
 "nbformat_minor": 2
}
